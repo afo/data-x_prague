{
 "cells": [
  {
   "cell_type": "markdown",
   "metadata": {},
   "source": [
    "![data-x](http://oi64.tinypic.com/o858n4.jpg)\n",
    "\n",
    "---\n",
    "# Breakout - Plotting w Matplotlib\n",
    "\n",
    "**Author list:** Alexander Fred Ojala\n",
    "\n",
    "**Source:** AY250, UC Berkeley\n",
    "\n",
    "**License Agreement:** Feel free to do whatever you want with this code"
   ]
  },
  {
   "cell_type": "markdown",
   "metadata": {
    "collapsed": true
   },
   "source": [
    "---\n",
    "Download the folder with breakout notebook, image and data here:\n",
    "\n",
    "# [Link to breakout material](https://www.dropbox.com/s/84hbb5lgichubor/breakout-L4.zip?dl=1)\n",
    "\n",
    "---\n",
    "\n",
    "## or\n",
    "#### clone / pull the latest version of the Data-X Github repo: https://github.com/ikhlaqsidhu/data-x"
   ]
  },
  {
   "cell_type": "markdown",
   "metadata": {},
   "source": [
    "---\n",
    "\n",
    "The data files are called: \n",
    "\n",
    "`google_data.txt, ny_temps.txt & yahoo_data.txt`,\n",
    "\n",
    "and they are placed in a folder called \"data\" your working directory."
   ]
  },
  {
   "cell_type": "code",
   "execution_count": 1,
   "metadata": {},
   "outputs": [
    {
     "name": "stdout",
     "output_type": "stream",
     "text": [
      "google_data.txt  ny_temps.txt  \u001b[0m\u001b[01;35mstocks.png\u001b[0m  yahoo_data.txt\r\n"
     ]
    }
   ],
   "source": [
    "# You should have the following files in the data directory\n",
    "# google_data.txt  ny_temps.txt     stocks.png       yahoo_data.txt\n",
    "%ls ./data"
   ]
  },
  {
   "cell_type": "markdown",
   "metadata": {},
   "source": [
    "# Breakout problem\n",
    "\n",
    "Use your knowledge with `Python, NumPy, pandas and matplotlib` to reproduce the plot below:\n",
    "\n",
    "![](answer.png?raw=true)"
   ]
  },
  {
   "cell_type": "code",
   "execution_count": 3,
   "metadata": {
    "collapsed": true
   },
   "outputs": [],
   "source": [
    "# start by loading data and packages\n",
    "import pandas as pd\n",
    "import numpy as np\n",
    "import matplotlib.pyplot as plt\n",
    "google_data = pd.read_csv('data/google_data.txt',sep=\"\\t\") # Note data seperator is a tab character (\\t)\n",
    "yahoo_data = pd.read_csv('data/yahoo_data.txt',sep=\"\\t\")\n",
    "ny_temps = pd.read_csv('data/ny_temps.txt',sep='\\t')"
   ]
  },
  {
   "cell_type": "code",
   "execution_count": null,
   "metadata": {
    "collapsed": true
   },
   "outputs": [],
   "source": []
  }
 ],
 "metadata": {
  "anaconda-cloud": {},
  "kernelspec": {
   "display_name": "Python 3",
   "language": "python",
   "name": "python3"
  },
  "language_info": {
   "codemirror_mode": {
    "name": "ipython",
    "version": 3
   },
   "file_extension": ".py",
   "mimetype": "text/x-python",
   "name": "python",
   "nbconvert_exporter": "python",
   "pygments_lexer": "ipython3",
   "version": "3.6.3"
  }
 },
 "nbformat": 4,
 "nbformat_minor": 1
}
