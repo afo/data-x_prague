{
 "cells": [
  {
   "cell_type": "markdown",
   "metadata": {},
   "source": [
    "![data-x](http://oi64.tinypic.com/o858n4.jpg)\n",
    "\n",
    "---\n",
    "# Breakout - Plotting w Matplotlib\n",
    "\n",
    "**Author list:** Alexander Fred Ojala\n",
    "\n",
    "**Source:** AY250, UC Berkeley\n",
    "\n",
    "**License Agreement:** Feel free to do whatever you want with this code"
   ]
  },
  {
   "cell_type": "code",
   "execution_count": null,
   "metadata": {},
   "outputs": [],
   "source": [
    "# start by loading data and packages\n",
    "import pandas as pd\n",
    "import numpy as np\n",
    "import matplotlib.pyplot as plt\n",
    "google_data = pd.read_csv('data/google_data.txt',sep=\"\\t\") # Note data seperator is a tab character (\\t)\n",
    "yahoo_data = pd.read_csv('data/yahoo_data.txt',sep=\"\\t\")\n",
    "ny_temps = pd.read_csv('data/ny_temps.txt',sep='\\t')"
   ]
  },
  {
   "cell_type": "markdown",
   "metadata": {},
   "source": [
    "# Solution example"
   ]
  },
  {
   "cell_type": "code",
   "execution_count": null,
   "metadata": {},
   "outputs": [],
   "source": [
    "!ls"
   ]
  },
  {
   "cell_type": "code",
   "execution_count": null,
   "metadata": {},
   "outputs": [],
   "source": [
    "!head data/google_data.txt"
   ]
  },
  {
   "cell_type": "markdown",
   "metadata": {},
   "source": [
    "## Read in data to Python DataFrames"
   ]
  },
  {
   "cell_type": "code",
   "execution_count": null,
   "metadata": {},
   "outputs": [],
   "source": [
    "# print shapes of data\n",
    "print(google_data.shape)\n",
    "print(yahoo_data.shape)\n",
    "print(ny_temps.shape)"
   ]
  },
  {
   "cell_type": "code",
   "execution_count": null,
   "metadata": {
    "collapsed": true
   },
   "outputs": [],
   "source": [
    "# Change column names for convenience\n",
    "google_data.columns = ['t','val']\n",
    "yahoo_data.columns = google_data.columns\n",
    "ny_temps.columns = ['t','temp']"
   ]
  },
  {
   "cell_type": "markdown",
   "metadata": {},
   "source": [
    "## Plotting"
   ]
  },
  {
   "cell_type": "code",
   "execution_count": null,
   "metadata": {},
   "outputs": [],
   "source": [
    "# Create figure, and ax1 subplot\n",
    "fig, ax1 = plt.subplots(figsize=(10,6))\n",
    "\n",
    "# Plot stock data\n",
    "yahoo, = ax1.plot(yahoo_data['t'], yahoo_data[\"val\"], linestyle=\"-\", color=\"purple\", label=\"Yahoo! Stock Value\")\n",
    "google, = ax1.plot(google_data[\"t\"], google_data[\"val\"],linestyle=\"-\", color=\"green\", label=\"Google Stock Value\")\n",
    "\n",
    "# Set axis limits, ticks, labels\n",
    "ax1.set_ylim(-20, 780)\n",
    "ax1.minorticks_on() # Minor ticks for the axes\n",
    "ax1.set_xlabel(\"Date (MJD)\")\n",
    "ax1.set_ylabel(\"Value (Dollars)\",color='purple')\n",
    "ax1.tick_params(axis='y',colors='green') # change the color of the tick params to green\n",
    "\n",
    "# Create a second axis on top of the first axis -> right side axis\n",
    "ax2 = ax1.twinx()\n",
    "\n",
    "# Plot the temperature data\n",
    "temps, = ax2.plot(ny_temps[\"t\"], ny_temps[\"temp\"], linestyle=\"--\", color=\"blue\", label=\"NY Mon. High Temp\")\n",
    "\n",
    "# Set ax2 axis limits, ticks, label\n",
    "ax2.set_ylim(-150, 100)\n",
    "ax2.minorticks_on()\n",
    "ax2.set_ylabel(\"Temperature ($^\\circ$F)\",color='blue')\n",
    "ax2.tick_params(axis='y', colors='blue')\n",
    "\n",
    "# Set x limit -- do this after plotting on the two axes\n",
    "ax1.set_xlim(48800, 55600)\n",
    "\n",
    "# Plot custom legend\n",
    "plt.figlegend(loc=[0.13,0.45],fontsize=7,frameon=False,numpoints=1)\n",
    "     \n",
    "# Plot the title\n",
    "fig.suptitle(\"New York Temperature, Google, and Yahoo!\", fontsize=16, fontweight=\"bold\")\n",
    "\n",
    "\n",
    "plt.show()"
   ]
  },
  {
   "cell_type": "code",
   "execution_count": null,
   "metadata": {
    "collapsed": true
   },
   "outputs": [],
   "source": []
  }
 ],
 "metadata": {
  "anaconda-cloud": {},
  "kernelspec": {
   "display_name": "Python 3",
   "language": "python",
   "name": "python3"
  },
  "language_info": {
   "codemirror_mode": {
    "name": "ipython",
    "version": 3
   },
   "file_extension": ".py",
   "mimetype": "text/x-python",
   "name": "python",
   "nbconvert_exporter": "python",
   "pygments_lexer": "ipython3",
   "version": "3.6.3"
  }
 },
 "nbformat": 4,
 "nbformat_minor": 1
}
