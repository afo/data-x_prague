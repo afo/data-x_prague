{
 "cells": [
  {
   "cell_type": "markdown",
   "metadata": {
    "collapsed": true
   },
   "source": [
    "![data-x](http://oi64.tinypic.com/o858n4.jpg)\n",
    "\n",
    "---\n",
    "## Introduction to Data Visualization in Python\n",
    "\n",
    "### Matplotlib 101\n",
    "\n",
    "---\n",
    "\n",
    "\n",
    "**Author list:** Alexander Fred Ojala & Ikhlaq Sidhu\n",
    "\n",
    "**License Agreement:** Feel free to do whatever you want with this code\n",
    "\n",
    "___\n",
    "\n"
   ]
  },
  {
   "cell_type": "markdown",
   "metadata": {},
   "source": [
    "Matplotlib is the standard plotting library in Python. It is well tested, well maintained and it has been around since ~2003. It also has a great support community.\n",
    "\n",
    "Matplotlib is highly customizable and sometimes it takes a lot of code to make a plot look like you want. It would take over a full week to go through all of the commands and aspects in matplotlib, therefore this notebook only works as a gentle introduciton.\n",
    "\n",
    "Many other plotting libraries (like `seaborn, pandas, bokeh, plotly, ` etc.) are built on top / integrates well with matplotlib. Therefore, it is an important package to know."
   ]
  },
  {
   "cell_type": "markdown",
   "metadata": {},
   "source": [
    "## Official gallery of matplotlib plot examples\n",
    "<div class='alert alert-info'>Please visit the <a href='https://matplotlib.org/gallery.html'>`matplotlib gallery`</a> and look at all the different plots you can make</div>"
   ]
  },
  {
   "cell_type": "markdown",
   "metadata": {},
   "source": [
    "# Load matplotlib"
   ]
  },
  {
   "cell_type": "code",
   "execution_count": null,
   "metadata": {
    "collapsed": true
   },
   "outputs": [],
   "source": [
    "# Standard way to import matplotlib from scratch: import matplotlib.pyplot as plt\n",
    "# you might also see import pylab, however the procedure below is preferred\n",
    "\n",
    "import matplotlib.pyplot as plt # always import pyplot module as plt (standard)\n",
    "import numpy as np\n",
    "import pandas as pd\n",
    "\n",
    "# set seed\n",
    "np.random.seed(0)\n",
    "\n",
    "# add IPython magic command %matplotlib inline \n",
    "# to print pyplot output inline in the notebook withput calling plt.show()\n",
    "%matplotlib inline\n",
    "\n",
    "# Increase standard plot size\n",
    "plt.rcParams['figure.figsize'] = (7, 4.5)"
   ]
  },
  {
   "cell_type": "markdown",
   "metadata": {},
   "source": [
    "# Two plotting approaches\n",
    "\n",
    "There are two approaches to plotting the:\n",
    "1. The functional / MATLAB approach\n",
    "2. Object-oriented approach **(preferred)**"
   ]
  },
  {
   "cell_type": "markdown",
   "metadata": {},
   "source": [
    "# 1. Functional / MATLAB plotting"
   ]
  },
  {
   "cell_type": "markdown",
   "metadata": {},
   "source": [
    "Note that the command:\n",
    "``` python\n",
    "plt.plot(x,y)\n",
    "```\n",
    "will create a `figure object` ( the canvas that we plot on ) and an `axes object` that is the plot with lines and info. "
   ]
  },
  {
   "cell_type": "code",
   "execution_count": null,
   "metadata": {},
   "outputs": [],
   "source": [
    "plt.plot(); # creates empty plot, semi colon suppresses text output"
   ]
  },
  {
   "cell_type": "markdown",
   "metadata": {},
   "source": [
    "## Simple line plot"
   ]
  },
  {
   "cell_type": "code",
   "execution_count": null,
   "metadata": {},
   "outputs": [],
   "source": [
    "# Simple plot of two lists, note that they are of equal length\n",
    "# plt.plot(x,y)\n",
    "\n",
    "plt.plot([1,2,3],[-2,5,-8])\n",
    "plt.show()  # Note: we don't have to run plt.show() \n",
    "            # if we have run  %matplotlib inline  once in the kernel session"
   ]
  },
  {
   "cell_type": "markdown",
   "metadata": {},
   "source": [
    "## Plot 50 random numbers"
   ]
  },
  {
   "cell_type": "code",
   "execution_count": null,
   "metadata": {},
   "outputs": [],
   "source": [
    "# every new cell where you run plt.plot() will create a new figure\n",
    "\n",
    "N = 50 \n",
    "x = np.arange(1,N+1)\n",
    "y = np.random.randn(N)\n",
    "\n",
    "plt.plot(x,y,linestyle='--') # example without plt.plot(), note this does not work in scripts"
   ]
  },
  {
   "cell_type": "markdown",
   "metadata": {},
   "source": [
    "# Two line plots in the same figure"
   ]
  },
  {
   "cell_type": "code",
   "execution_count": null,
   "metadata": {},
   "outputs": [],
   "source": [
    "# if plt.plot(*args) are run in the same cell\n",
    "# we will plot on the same axes\n",
    "\n",
    "plt.plot(x,4*y)\n",
    "plt.plot(x,np.abs(10*y)-x); # semi colon to suppress text output"
   ]
  },
  {
   "cell_type": "markdown",
   "metadata": {},
   "source": [
    "#### New plot in one cell\n",
    "`plt.figure()` creates a new figure in the same cell"
   ]
  },
  {
   "cell_type": "code",
   "execution_count": null,
   "metadata": {},
   "outputs": [],
   "source": [
    "# if plt.plot(*args) are run in the same cell\n",
    "# we will plot on the same axes\n",
    "\n",
    "plt.figure()\n",
    "plt.plot(x,4*y)\n",
    "\n",
    "plt.figure()\n",
    "plt.plot(x,np.abs(10*y)-x);"
   ]
  },
  {
   "cell_type": "markdown",
   "metadata": {},
   "source": [
    "# Scatter plot"
   ]
  },
  {
   "cell_type": "code",
   "execution_count": null,
   "metadata": {
    "scrolled": false
   },
   "outputs": [],
   "source": [
    "# Relationship between two variables\n",
    "plt.scatter(x,y);"
   ]
  },
  {
   "cell_type": "markdown",
   "metadata": {},
   "source": [
    "# Combine line and scatter plots"
   ]
  },
  {
   "cell_type": "code",
   "execution_count": null,
   "metadata": {},
   "outputs": [],
   "source": [
    "plt.plot(x,y)\n",
    "plt.scatter(x,y);"
   ]
  },
  {
   "cell_type": "code",
   "execution_count": null,
   "metadata": {},
   "outputs": [],
   "source": [
    "plt.plot(x,y,marker='*');"
   ]
  },
  {
   "cell_type": "markdown",
   "metadata": {},
   "source": [
    "# Histograms"
   ]
  },
  {
   "cell_type": "code",
   "execution_count": null,
   "metadata": {
    "scrolled": false
   },
   "outputs": [],
   "source": [
    "N=20\n",
    "vals = np.random.randint(0,11,N)\n",
    "print(sorted(vals))"
   ]
  },
  {
   "cell_type": "code",
   "execution_count": null,
   "metadata": {},
   "outputs": [],
   "source": [
    "plt.xlim(0,10) # change limits of x axis\n",
    "plt.xticks(np.arange(11)) # change ticks on x-axis\n",
    "plt.hist(vals);"
   ]
  },
  {
   "cell_type": "markdown",
   "metadata": {},
   "source": [
    "### Histogram with bins"
   ]
  },
  {
   "cell_type": "code",
   "execution_count": null,
   "metadata": {},
   "outputs": [],
   "source": [
    "bins = np.linspace(0,10,6)\n",
    "bins"
   ]
  },
  {
   "cell_type": "code",
   "execution_count": null,
   "metadata": {},
   "outputs": [],
   "source": [
    "# histogram with bins\n",
    "#bins = np.linspace(0,10,5)\n",
    "plt.hist(vals,bins=bins,width=1.9) # change width of bars, so we can see space in between\n",
    "plt.xlim(0,10)\n",
    "plt.show()"
   ]
  },
  {
   "cell_type": "markdown",
   "metadata": {},
   "source": [
    "# 2. Object-oriented approach (preferred approach)\n",
    "The object-oriented approach is more powerful and should be used when you want more control of your visualization. Instead of letting matplotlib handle what figure and axes that is the current one, we assign the `figure` and `axes` objects to variables and apply functions via methods on them.\n",
    "## Figures and axes objects"
   ]
  },
  {
   "cell_type": "code",
   "execution_count": null,
   "metadata": {},
   "outputs": [],
   "source": [
    "# simple plot\n",
    "\n",
    "f, ax = plt.subplots() # returns tuple:\n",
    "# f is the canvas object, can contain several plots i.e. axes objects (p)\n",
    "\n",
    "ax.plot([1,2,3],[5,2,8]);\n",
    "ax.hist(np.random.randint(1,4,10));"
   ]
  },
  {
   "cell_type": "markdown",
   "metadata": {},
   "source": [
    "# Several subplots on the same Figure"
   ]
  },
  {
   "cell_type": "code",
   "execution_count": null,
   "metadata": {},
   "outputs": [],
   "source": [
    "f, ax = plt.subplots(nrows=2,ncols=2)\n",
    "# or\n",
    "# f, (ax1, ax2, ax3, ax4) = plt.subplots(nrows=2,ncols=2)\n",
    "\n",
    "# or,\n",
    "# fig = plt.figure()\n",
    "# ax1 = plt.subplot(221) #2x2 grid, first plot\n",
    "# ax2 = plt.subplot(222)\n",
    "# ax3 = plt.subplot(223)\n",
    "# ax4 = plt.subplot(224)\n",
    "# ax1.plot(x,y) etc..\n",
    "\n",
    "ax[0,0].plot(x, y)\n",
    "ax[1,0].scatter(x, y)\n",
    "ax[0,1].hist(vals)\n",
    "ax[1,1].barh(x,np.abs(y));"
   ]
  },
  {
   "cell_type": "markdown",
   "metadata": {},
   "source": [
    "# Custom subplot grids"
   ]
  },
  {
   "cell_type": "code",
   "execution_count": null,
   "metadata": {},
   "outputs": [],
   "source": [
    "# We can make arbitrarly complicated subplot grids with plt.subplot2grid\n",
    "# example taken from Python Bootcamp https://github.com/profjsb/python-bootcamp\n",
    "\n",
    "x = np.linspace(0,2*np.pi,10000)\n",
    "y1 = np.sin(x)\n",
    "y2 = np.sin(x)**2\n",
    "\n",
    "f = plt.figure()\n",
    "\n",
    "# subplot2grid(grid_shape, loc_in_grid, rowspan=1, colspan=1)\n",
    "# 3 x 3 grid\n",
    "\n",
    "# Specify the grid\n",
    "ax1 = plt.subplot2grid((3,3), (0,0), colspan=3) # spans three cols\n",
    "ax2 = plt.subplot2grid((3,3), (1,0), colspan=2) # 3 \n",
    "ax3 = plt.subplot2grid((3,3), (1,2), rowspan=2)\n",
    "ax4 = plt.subplot2grid((3,3), (2,0))\n",
    "ax5 = plt.subplot2grid((3,3), (2,1))\n",
    "\n",
    "# remove tick labels on all axes\n",
    "for ax in f.axes:\n",
    "    for t in ax.get_xticklabels()+ax.get_yticklabels():\n",
    "        t.set_visible(False)\n",
    "    \n",
    "\n",
    "# make a different kinds of plots!\n",
    "ax1.plot(x, y1)\n",
    "ax2.hist(y1)\n",
    "ax3.scatter(x,y1)\n",
    "ax4.boxplot(y1)\n",
    "ax5.loglog(x, y1)\n",
    "\n",
    "# Add titles\n",
    "ax1.set_title('This')\n",
    "ax3.set_title('plot')\n",
    "ax5.set_title('works!')\n",
    "f.suptitle('Grid layout!',fontsize=20, y=1.1) # y location\n",
    "\n",
    "f.tight_layout()    # great command for adding white space\n",
    "                    # between plots"
   ]
  },
  {
   "cell_type": "markdown",
   "metadata": {},
   "source": [
    "# 3. Plot styling\n",
    "\n",
    "### Add labels, text, legend and change color"
   ]
  },
  {
   "cell_type": "code",
   "execution_count": null,
   "metadata": {},
   "outputs": [],
   "source": [
    "# Three different line plots on same axes\n",
    "\n",
    "N = 50 \n",
    "x = np.arange(1,N+1)\n",
    "y = np.random.randn(N)\n",
    "\n",
    "fig, ax = plt.subplots()\n",
    "\n",
    "ax.plot(x,y,color='green', linestyle=':', label='line 1',linewidth = 2.5)\n",
    "ax.plot(x,y*2,color='orange', linestyle='--', label = 'line 2')\n",
    "ax.plot(x,y+4,color='black',marker='o', label = 'line 3')\n",
    "\n",
    "ax.legend(loc=4) # location of legend is an integer, \n",
    "# for text to be correct in the legend the plots need a label\n",
    "\n",
    "# add plot LaTex style title, with line breaks\n",
    "ax.set_title('3 Graphs (g): $\\sum^3_i= g_i$\\nsubtitle\\n',\n",
    "             color='blue',fontweight='bold',fontsize=26) \n",
    "\n",
    "\n",
    "ax.set_xlabel('x label') # add xlabel\n",
    "ax.set_ylabel('y label'); # add ylabel"
   ]
  },
  {
   "cell_type": "markdown",
   "metadata": {},
   "source": [
    "# Custom legend"
   ]
  },
  {
   "cell_type": "code",
   "execution_count": null,
   "metadata": {},
   "outputs": [],
   "source": [
    "fig, ax = plt.subplots()\n",
    "\n",
    "# ax.plot() returns a line object that we can assign to variables\n",
    "# Note comma, in order to unpack tuple object\n",
    "\n",
    "l1, = ax.plot(x,y,color='green', linestyle=':', label='line 1',linewidth = 2.5) \n",
    "\n",
    "l2, = ax.plot(x,y*2,'y--', label = 'line 2')\n",
    "l3, = ax.plot(x,y+4,color='black', linestyle='--',marker='o', label = 'line 3')\n",
    "\n",
    "ax.legend(handles=[l1, l3], labels=['green vert', 'black dash dot'],\n",
    "              loc=[0.6,0.92],frameon=True,numpoints=3);"
   ]
  },
  {
   "cell_type": "markdown",
   "metadata": {},
   "source": [
    "# Set limits and annotate values in the plot"
   ]
  },
  {
   "cell_type": "code",
   "execution_count": null,
   "metadata": {},
   "outputs": [],
   "source": [
    "x = np.arange(0,10,2)\n",
    "y = np.array([2,6,-4,3,-5])\n",
    "\n",
    "fig, ax = plt.subplots()\n",
    "\n",
    "\n",
    "ax.set_ylim(-6,8)\n",
    "ax.set_xlim(0,9)\n",
    "ax.plot(x,y)\n",
    "\n",
    "for coord in zip(x, y):\n",
    "    ax.annotate(s = str(coord),xy = coord) # coord = coordinates\n"
   ]
  },
  {
   "cell_type": "markdown",
   "metadata": {},
   "source": [
    "# Double axis plot"
   ]
  },
  {
   "cell_type": "code",
   "execution_count": null,
   "metadata": {},
   "outputs": [],
   "source": [
    "fig, ax1 = plt.subplots()\n",
    "\n",
    "N = 100 # number of samples\n",
    "\n",
    "err=np.random.randn(N)*5\n",
    "\n",
    "x=np.linspace(0,10,N)\n",
    "\n",
    "y=12+x*3.5+err\n",
    "y2 = np.sin(2 * np.pi * x)\n",
    "\n",
    "# plot\n",
    "\n",
    "ax1.set_xlim(0,10)\n",
    "l1 = ax1.scatter(x,y,color='blue',label='scatter')\n",
    "ax1.set_ylabel('line',color='blue')\n",
    "ax1.tick_params('y',colors='blue')\n",
    "\n",
    "\n",
    "ax2 = ax1.twinx() # create second axis for y2\n",
    "l2, = ax2.plot(x, y2, color='red',label='$sin(x)$')\n",
    "ax2.set_ylabel('sin', color='red')\n",
    "ax1.set_xlim(0,10)\n",
    "ax2.tick_params('y', colors='red')\n",
    "\n",
    "plt.legend((l1,l2),('scatter','$sin(x)$'),loc=[0.8,1]);"
   ]
  },
  {
   "cell_type": "markdown",
   "metadata": {},
   "source": [
    "# Plot sharing x-axis & Saving plots"
   ]
  },
  {
   "cell_type": "code",
   "execution_count": null,
   "metadata": {
    "collapsed": true
   },
   "outputs": [],
   "source": [
    "# Generate data\n",
    "x = np.linspace(0,2*np.pi,51)\n",
    "y1 = np.sin(x)\n",
    "y2 = 2*np.sin(x)**2"
   ]
  },
  {
   "cell_type": "code",
   "execution_count": null,
   "metadata": {},
   "outputs": [],
   "source": [
    "# Create two subplots, on two rows with two axes ax1 and ax2\n",
    "f, (ax1, ax2) = plt.subplots(2, 1,sharex=True)\n",
    "\n",
    "#f, (ax1, ax2) = plt.subplots(1,2) # Would be vertical\n",
    "\n",
    "ax1.plot(x,y1)\n",
    "ax2.plot(x + np.pi,y2)\n",
    "# show ticks\n",
    "plt.xticks(np.linspace(0,3*np.pi,7),\n",
    "           ('0','$\\pi/2$','$\\pi$','$3\\pi/2$','$2\\pi$','$5\\pi/2$','$3\\pi$')); \n",
    "\n",
    "f.suptitle('Sharing x-axis'); # Title for both subplots"
   ]
  },
  {
   "cell_type": "code",
   "execution_count": null,
   "metadata": {
    "collapsed": true
   },
   "outputs": [],
   "source": [
    "# Save fig as png\n",
    "f.savefig('fig.png') # easy, png, svg, pdf, etc work\n",
    "f.savefig('fig.svg')\n",
    "# it will take on the file format"
   ]
  },
  {
   "cell_type": "code",
   "execution_count": null,
   "metadata": {},
   "outputs": [],
   "source": [
    "%ls # list files in your directory"
   ]
  },
  {
   "cell_type": "code",
   "execution_count": null,
   "metadata": {},
   "outputs": [],
   "source": [
    "# display picture\n",
    "from IPython.display import Image\n",
    "Image(filename='fig.png') "
   ]
  },
  {
   "cell_type": "code",
   "execution_count": null,
   "metadata": {
    "scrolled": false
   },
   "outputs": [],
   "source": [
    "# display RANDOM image file\n",
    "from IPython.display import Image\n",
    "Image(filename='example.jpg') "
   ]
  },
  {
   "cell_type": "markdown",
   "metadata": {},
   "source": [
    "-----\n",
    "## Opacity, marker size and color bar"
   ]
  },
  {
   "cell_type": "code",
   "execution_count": null,
   "metadata": {},
   "outputs": [],
   "source": [
    "N=50\n",
    "\n",
    "x = np.random.randn(N)\n",
    "y = np.random.randn(N)\n",
    "colors = np.random.rand(N)\n",
    "sizes = N*10 * np.random.rand(100)\n",
    "\n",
    "plt.scatter(x, y, c=colors, s=sizes, alpha=0.4, cmap='nipy_spectral')\n",
    "plt.colorbar(); #this will add a color bar to the right"
   ]
  },
  {
   "cell_type": "markdown",
   "metadata": {},
   "source": [
    "# 3d plot"
   ]
  },
  {
   "cell_type": "code",
   "execution_count": null,
   "metadata": {},
   "outputs": [],
   "source": [
    "# Axes 3D needed to set projection='3d'\n",
    "from mpl_toolkits.mplot3d import Axes3D\n",
    "\n",
    "\n",
    "fig = plt.figure()\n",
    "ax = fig.add_subplot(111, projection='3d')\n",
    "\n",
    "# Make data, spherical coordinates\n",
    "u = np.linspace(0, .5*np.pi, 100)\n",
    "v = np.linspace(0, 2*np.pi, 100)\n",
    "x = 10 * np.outer(np.cos(u), np.sin(v))\n",
    "y = 10 * np.outer(np.sin(u), np.sin(v))\n",
    "z = 10 * np.outer(np.ones(np.size(u)), np.cos(v))\n",
    "\n",
    "\n",
    "# Plot the surface\n",
    "ax.plot_surface(x, y, z, color='r');"
   ]
  },
  {
   "cell_type": "markdown",
   "metadata": {},
   "source": [
    "# Change the plot styles\n",
    "\n",
    "Here is a link to some common styles: [matplotlib style gallery](https://tonysyu.github.io/raw_content/matplotlib-style-gallery/gallery.html)"
   ]
  },
  {
   "cell_type": "code",
   "execution_count": null,
   "metadata": {
    "collapsed": true
   },
   "outputs": [],
   "source": [
    "# increase the figure size for all plots\n",
    "\n",
    "IPython_default = plt.rcParams.copy() # save default styling"
   ]
  },
  {
   "cell_type": "code",
   "execution_count": null,
   "metadata": {},
   "outputs": [],
   "source": [
    "data1 = np.random.randint(-10,5,400)\n",
    "data2 = np.random.randint(-10,11,400)\n",
    "data3 = np.random.randint(-10,11,400)\n",
    "\n",
    "plt.style.use('ggplot') # for R lovers\n",
    "plt.figure()\n",
    "plt.hist([data1,data2,data3])\n",
    "plt.title('ggplot')\n",
    "\n",
    "\n",
    "plt.style.use('fivethirtyeight')\n",
    "plt.figure()\n",
    "plt.hist([data1,data2,data3])\n",
    "plt.title('fivethirteight')\n",
    "\n",
    "plt.style.use('dark_background')\n",
    "plt.figure()\n",
    "plt.hist([data1,data2,data3])\n",
    "plt.title('dark-background')\n",
    "\n",
    "plt.style.use('seaborn-white') # classic MATLAB stylingnot that pretty\n",
    "plt.figure()\n",
    "plt.hist([data1,data2,data3])\n",
    "plt.title('seaborn-white (alex favorite!)');"
   ]
  },
  {
   "cell_type": "code",
   "execution_count": null,
   "metadata": {
    "collapsed": true
   },
   "outputs": [],
   "source": [
    "# You can also customize the \n",
    "\n",
    "plt.rcParams.update(IPython_default); # restore defaults"
   ]
  },
  {
   "cell_type": "markdown",
   "metadata": {},
   "source": [
    "# Seaborn and pandas\n",
    "**Note:** Anaconda does not come with seaborn, please install it in your virtual environment by running:\n",
    "```bash\n",
    "conda intall seaborn\n",
    "```\n",
    "\n",
    "- **seaborn:** Mostly used for statistical plotting, and better graphics. \n",
    "- **pandas:** Mostly used for quick plotting of DataFrames and time series"
   ]
  },
  {
   "cell_type": "code",
   "execution_count": null,
   "metadata": {},
   "outputs": [],
   "source": [
    "import seaborn as sns\n",
    "import pandas as pd\n",
    "\n",
    "df = sns.load_dataset(\"iris\") # load classic ML dataset\n",
    "df.head()"
   ]
  },
  {
   "cell_type": "code",
   "execution_count": null,
   "metadata": {},
   "outputs": [],
   "source": [
    "df.plot();"
   ]
  },
  {
   "cell_type": "code",
   "execution_count": null,
   "metadata": {},
   "outputs": [],
   "source": [
    "df.plot.box();"
   ]
  },
  {
   "cell_type": "code",
   "execution_count": null,
   "metadata": {},
   "outputs": [],
   "source": [
    "df.mean().plot.pie();"
   ]
  },
  {
   "cell_type": "code",
   "execution_count": null,
   "metadata": {},
   "outputs": [],
   "source": [
    "sp = list(df['species'].unique())\n",
    "cols = list(['g','b','y'])\n",
    "colors = dict(zip(sp,cols))\n",
    "colors"
   ]
  },
  {
   "cell_type": "code",
   "execution_count": null,
   "metadata": {},
   "outputs": [],
   "source": [
    "df.plot.scatter('sepal_length','sepal_width',c=df['species'].apply(lambda x: colors[x]))"
   ]
  },
  {
   "cell_type": "code",
   "execution_count": null,
   "metadata": {
    "scrolled": true
   },
   "outputs": [],
   "source": [
    "sns.pairplot(df, hue='species', size=2.5)"
   ]
  },
  {
   "cell_type": "code",
   "execution_count": null,
   "metadata": {},
   "outputs": [],
   "source": [
    "sns.distplot(df['sepal_length'],color='orange');"
   ]
  },
  {
   "cell_type": "code",
   "execution_count": null,
   "metadata": {},
   "outputs": [],
   "source": [
    "sns.boxplot(data=df);"
   ]
  },
  {
   "cell_type": "markdown",
   "metadata": {
    "collapsed": true
   },
   "source": [
    "# Other packages you can check out\n",
    "Interactive plots\n",
    "- [Bokeh](https://bokeh.pydata.org/)\n",
    "- [Plotly](https://plot.ly/)\n",
    "\n",
    "Declarative plotting\n",
    "- [Altair](https://altair-viz.github.io/)\n",
    "- [Vega](https://vega.github.io/vega/)"
   ]
  },
  {
   "cell_type": "code",
   "execution_count": null,
   "metadata": {
    "collapsed": true
   },
   "outputs": [],
   "source": []
  }
 ],
 "metadata": {
  "anaconda-cloud": {},
  "kernelspec": {
   "display_name": "Python 3",
   "language": "python",
   "name": "python3"
  },
  "language_info": {
   "codemirror_mode": {
    "name": "ipython",
    "version": 3
   },
   "file_extension": ".py",
   "mimetype": "text/x-python",
   "name": "python",
   "nbconvert_exporter": "python",
   "pygments_lexer": "ipython3",
   "version": "3.6.7"
  }
 },
 "nbformat": 4,
 "nbformat_minor": 2
}
