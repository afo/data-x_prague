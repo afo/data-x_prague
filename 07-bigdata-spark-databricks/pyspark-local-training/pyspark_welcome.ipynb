{
 "cells": [
  {
   "cell_type": "markdown",
   "metadata": {},
   "source": [
    "Welcome\n",
    "-------\n",
    "\n",
    "Source: https://github.com/piotrszul/spark-tutorial (great tutorials to get up to speed)\n",
    "\n",
    "Welcome to the Apache Spark tutorial notebooks.\n",
    "\n",
    "This very simple notebook is designed to test that your environment is setup correctly.\n",
    "\n",
    "Please `Run All` cells. \n",
    "\n",
    "The notebook should run without errors and you should see a histogram plot at the end.\n",
    "\n",
    "(You can also check the expected output [here](https://piotrszul.github.io/spark-tutorial/notebooks/0.1_Welcome.html))\n",
    "\n",
    "\n",
    "#### Let's go\n"
   ]
  },
  {
   "cell_type": "markdown",
   "metadata": {},
   "source": [
    "Let's check that there are some input data available:"
   ]
  },
  {
   "cell_type": "code",
   "execution_count": 1,
   "metadata": {},
   "outputs": [
    {
     "name": "stdout",
     "output_type": "stream",
     "text": [
      "﻿The Project Gutenberg EBook of The Prince, by Nicolo Machiavelli\n",
      "\n",
      "This eBook is for the use of anyone anywhere at no cost and with\n",
      "almost no restrictions whatsoever.  You may copy it, give it away or\n",
      "re-use it under the terms of the Project Gutenberg License included\n",
      "with this eBook or online at www.gutenberg.org\n",
      "\n",
      "\n",
      "Title: The Prince\n",
      "\n"
     ]
    }
   ],
   "source": [
    "%%sh\n",
    "\n",
    "# All the test data sets are located in the `data` directory.\n",
    "# You can preview them using unix command such as `cat`, `head`, `tail`,  `ls`,  etc. \n",
    "# in `shell` cells marked with the `%%sh` magic, e.g.: \n",
    "\n",
    "head -n 10 prince_by_machiavelli.txt"
   ]
  },
  {
   "cell_type": "markdown",
   "metadata": {},
   "source": [
    "Let's check if spark is available and what version are we using (should be 2.1+):"
   ]
  },
  {
   "cell_type": "code",
   "execution_count": 2,
   "metadata": {},
   "outputs": [
    {
     "data": {
      "text/plain": [
       "'2.3.0'"
      ]
     },
     "execution_count": 2,
     "metadata": {},
     "output_type": "execute_result"
    }
   ],
   "source": [
    "# `spark` is the main entry point for all spark related operations.\n",
    "# It is an instance of SparkSession and pyspark automatically creates one for you.\n",
    "# Another one is `sc` an instance of SparkContext, which is used for low lever RRD API.\n",
    "\n",
    "spark.version"
   ]
  },
  {
   "cell_type": "markdown",
   "metadata": {},
   "source": [
    "Let's try to run a simple `Spark` program to compute the number of occurences of words in Machiavelli's \"Prince\", and display ten most frequent ones:"
   ]
  },
  {
   "cell_type": "code",
   "execution_count": 6,
   "metadata": {},
   "outputs": [
    {
     "name": "stdout",
     "output_type": "stream",
     "text": [
      "[(3108, 'the'), (2107, 'to'), (1935, 'and'), (1802, 'of'), (993, 'in'), (920, 'he'), (779, 'a'), (745, 'that'), (640, 'his'), (585, 'it')]\n"
     ]
    }
   ],
   "source": [
    "import operator\n",
    "import re\n",
    "\n",
    "\n",
    "# Here we use Spark RDD API to split a text file into invividual words, \n",
    "# to count the number of occurences of each word and to take top 10 most frequent words.\n",
    "\n",
    "wordCountRDD = sc.textFile('prince_by_machiavelli.txt') \\\n",
    "        .flatMap(lambda line: re.split(r'[^a-z\\-\\']+', line.lower())) \\\n",
    "        .filter(lambda word: len(word) > 0 ) \\\n",
    "        .map(lambda word: (word, 1)) \\\n",
    "        .reduceByKey(operator.add)\n",
    "\n",
    "# `take()` function takes the first n elements of an RDD \n",
    "# and returns them in a python `list` object, \n",
    "        \n",
    "top10Words = wordCountRDD \\\n",
    "    .map(lambda x: (x[1],x[0])) \\\n",
    "    .sortByKey(False) \\\n",
    "    .take(10)\n",
    "    \n",
    "    \n",
    "# which can then be printed out\n",
    "print(top10Words)"
   ]
  },
  {
   "cell_type": "markdown",
   "metadata": {},
   "source": [
    "Spark SQL is a higer level API for structured data. The data are represented in `data frames` - table like object with columns and rows concenptully similar to `panadas` or `R` data fames.\n",
    "\n",
    "Let's use Spark SQL to display a table with the 10 least frequent words:"
   ]
  },
  {
   "cell_type": "code",
   "execution_count": 8,
   "metadata": {
    "scrolled": true
   },
   "outputs": [
    {
     "name": "stdout",
     "output_type": "stream",
     "text": [
      "+-----------+-----+\n",
      "|       word|count|\n",
      "+-----------+-----+\n",
      "|      nelli|    1|\n",
      "|  impressed|    1|\n",
      "|constitutes|    1|\n",
      "|bartolommea|    1|\n",
      "|   guidance|    1|\n",
      "|   currents|    1|\n",
      "|    prophet|    1|\n",
      "|  furnished|    1|\n",
      "|   missions|    1|\n",
      "|       gibe|    1|\n",
      "+-----------+-----+\n",
      "\n"
     ]
    }
   ],
   "source": [
    "# A data frame can be created from an RDD;\n",
    "# schema defines the names (and types) of columns.\n",
    "\n",
    "wordCountDF = spark.createDataFrame(wordCountRDD, schema = ['word', 'count'])\n",
    "\n",
    "# it just means: sort by column `count` and take the first ten elements\n",
    "\n",
    "bottom10Words = wordCountDF.sort('count').limit(10)\n",
    "\n",
    "# `display` function can be used to display data frames (and also all other sorts of objects)\n",
    "bottom10Words.show()"
   ]
  },
  {
   "cell_type": "markdown",
   "metadata": {},
   "source": [
    "Let's save the results to a csv file.\n",
    "\n",
    "For the tutorial all the output files are saved in the `output` directory:"
   ]
  },
  {
   "cell_type": "code",
   "execution_count": 9,
   "metadata": {
    "collapsed": true
   },
   "outputs": [],
   "source": [
    "# data frames can be saved in many common 'table' formats, for example `csv`.\n",
    "# the `mode='overwrite'` tells Spark to overwite the output file is it exists\n",
    "\n",
    "wordCountDF.write.csv('output/prince-word-count.csv', mode='overwrite', header=True)"
   ]
  },
  {
   "cell_type": "markdown",
   "metadata": {},
   "source": [
    "Let's preview the output:"
   ]
  },
  {
   "cell_type": "code",
   "execution_count": 10,
   "metadata": {},
   "outputs": [
    {
     "name": "stdout",
     "output_type": "stream",
     "text": [
      "total 60\n",
      "-rw-r--r-- 1 afo afo 28291 Apr 25 12:23 part-00000-f7acadc0-2990-42db-b4f5-427fd1dcf361-c000.csv\n",
      "-rw-r--r-- 1 afo afo 28733 Apr 25 12:23 part-00001-f7acadc0-2990-42db-b4f5-427fd1dcf361-c000.csv\n",
      "-rw-r--r-- 1 afo afo     0 Apr 25 12:23 _SUCCESS\n",
      "\n",
      "Content:\n",
      "word,count\n",
      "project,87\n",
      "gutenberg,36\n",
      "ebook,11\n",
      "of,1802\n",
      "prince,221\n",
      "machiavelli,54\n",
      "this,366\n",
      "is,437\n",
      "use,30\n"
     ]
    }
   ],
   "source": [
    "%%sh \n",
    "\n",
    "# Same as with the input data sets, we can use the `%%sh` cells to preview the \n",
    "# files produced to the `output` directory.\n",
    "\n",
    "# Please note that output we have produced above is actually a directory:\n",
    "\n",
    "ls  -l output/prince-word-count.csv\n",
    "\n",
    "# The `part-*` files inside contain the actual data.\n",
    "\n",
    "echo\n",
    "echo \"Content:\"\n",
    "\n",
    "head -n 10 output/prince-word-count.csv/part-00000-*.csv "
   ]
  },
  {
   "cell_type": "markdown",
   "metadata": {},
   "source": [
    "Finally we can use python `matplotlib` to visualise the result.\n",
    "\n",
    "Let's plot the histogram of the distribution of word counts:"
   ]
  },
  {
   "cell_type": "code",
   "execution_count": 12,
   "metadata": {},
   "outputs": [
    {
     "data": {
      "image/png": "[encoded data removed]",
      "text/plain": [
       "<matplotlib.figure.Figure at 0x7faa2567ce10>"
      ]
     },
     "metadata": {},
     "output_type": "display_data"
    }
   ],
   "source": [
    "import matplotlib.pyplot as plt\n",
    "\n",
    "# we can convert (small) Spark data frames to `pandas`\n",
    "wordCountPDF = wordCountDF.toPandas()\n",
    "\n",
    "# and then use pyplot (plt) to display the results\n",
    "# Please note that we call `plt.close()` first - this is needed for Databricks \n",
    "# to start a new plot.\n",
    "\n",
    "plt.close()\n",
    "plt.hist(wordCountPDF['count'], bins = 20, log = True)\n",
    "plt.show()"
   ]
  },
  {
   "cell_type": "markdown",
   "metadata": {},
   "source": [
    "You can now play around modifyging some pieces of the code.\n",
    "\n",
    "When you are done and you are running off the local machine remeber **to close the notebook with `File/Close and Halt`**"
   ]
  }
 ],
 "metadata": {
  "kernelspec": {
   "display_name": "Python 3",
   "language": "python",
   "name": "python3"
  },
  "language_info": {
   "codemirror_mode": {
    "name": "ipython",
    "version": 3
   },
   "file_extension": ".py",
   "mimetype": "text/x-python",
   "name": "python",
   "nbconvert_exporter": "python",
   "pygments_lexer": "ipython3",
   "version": "3.6.8"
  }
 },
 "nbformat": 4,
 "nbformat_minor": 2
}
